{
 "cells": [
  {
   "cell_type": "code",
   "execution_count": 1,
   "metadata": {
    "collapsed": true
   },
   "outputs": [],
   "source": [
    "# Now that we scraped our data and trained our model, lets use it to fill out a bracket!"
   ]
  },
  {
   "cell_type": "code",
   "execution_count": 32,
   "metadata": {
    "collapsed": true
   },
   "outputs": [],
   "source": [
    "import pickle\n",
    "import pandas as pd \n",
    "import csv\n",
    "import numpy as np \n",
    "import pickle"
   ]
  },
  {
   "cell_type": "code",
   "execution_count": 33,
   "metadata": {
    "collapsed": true
   },
   "outputs": [],
   "source": [
    "path_stats_basic19 = r\"C:\\Python\\March Madness\\NCAA_Team_Data_basic19.csv\"\n",
    "path_stats_basic18 = r\"C:\\Python\\March Madness\\NCAA_Team_Data_basic18.csv\"\n",
    "\n",
    "# df of all team stats for each year\n",
    "df_stats19 = pd.read_csv(path_stats_basic19)\n",
    "df_stats18 = pd.read_csv(path_stats_basic18)\n",
    "\n",
    "# df picking out our stats we will use as features in our model, this is useful for our our match_stats functions below\n",
    "df_features19 = df_stats19[['SCHOOL','SRS','FG%','3P%', 'FT%']]\n",
    "df_features18 = df_stats18[['SCHOOL','SRS','FG%','3P%', 'FT%']]"
   ]
  },
  {
   "cell_type": "code",
   "execution_count": 34,
   "metadata": {
    "collapsed": true
   },
   "outputs": [],
   "source": [
    "# This csv file holds the first round of our tournament\n",
    "path_tournament19 = r\"C:\\Python\\March Madness\\Bracket_Games19.csv\""
   ]
  },
  {
   "cell_type": "code",
   "execution_count": 39,
   "metadata": {
    "collapsed": true
   },
   "outputs": [],
   "source": [
    "# load our regression model using pickle\n",
    "filename = 'finalized_model.sav'\n",
    "model = pickle.load(open(filename,'rb'))\n",
    "\n",
    "features = ['SRS','FG%','3P%','FT%']"
   ]
  },
  {
   "cell_type": "code",
   "execution_count": 36,
   "metadata": {
    "collapsed": true
   },
   "outputs": [],
   "source": [
    "# Calculates the match stats of each tournament game, similar to match_stats_reg_season()\n",
    "def match_stats_tournament(lst,df_games,df_features):\n",
    "    for index,row in df_games.iterrows():\n",
    "        lst.append(df_features.loc[df_features['SCHOOL']==row[0]].values[0][1:].astype(float) - df_features.loc[df_features['SCHOOL']==row[1]].values[0][1:].astype(float))\n",
    "\n",
    "    return lst"
   ]
  },
  {
   "cell_type": "code",
   "execution_count": 37,
   "metadata": {
    "collapsed": true
   },
   "outputs": [],
   "source": [
    "# Given the first round matchups, this function predicts the entire tournament saving it to a csv file\n",
    "\n",
    "def predict_tournament(path_tournament,bracket_file,df_features): \n",
    "    \n",
    "    # rounds list holds the indices for the first game of each tournament round in our csv file\n",
    "    rounds = [0,33,50,59,64,67]\n",
    "\n",
    "\n",
    "    # iterate through each round of the tournament so we can predict the winners of one round and update the bracket for the matches of the next round\n",
    "    for r in rounds:\n",
    "\n",
    "        # Two holder lists to keep track of our match stats and which teams advance respectively\n",
    "        tournament_match_stats = [] \n",
    "        next_round = []\t\n",
    "\n",
    "        # Fills the df_tournament data frame with the matches to be predicted for the given rounds\n",
    "        df_tournament = pd.read_csv(path_tournament)\n",
    "\n",
    "        # call our function to calculate the current rounds match stats\n",
    "        match_stats_tournament(tournament_match_stats,df_tournament[r:],df_features)\n",
    "\n",
    "        # Save the current rounds match stats to a df\n",
    "        df_tournament_match_stats = pd.DataFrame(columns=features, data=tournament_match_stats)\n",
    "\n",
    "        # predicts who will advance to the next round\n",
    "        holdout_predicitons = model.predict(df_tournament_match_stats[features])\n",
    "\n",
    "\n",
    "        # iterates through each matchup and picks out the predicted winner saving them to the next_round holder list\n",
    "        count=0 \n",
    "        for index,row in df_tournament[r:].iterrows():\t\n",
    "\n",
    "            if holdout_predicitons[count] == 0:\n",
    "                next_round.append(row[0])\n",
    "                count+=1\n",
    "\n",
    "            else:\n",
    "                next_round.append(row[1])\n",
    "                count+=1\n",
    "\n",
    "\n",
    "        # Appends the winners of each round to our bracket csv file\n",
    "        # First we will check if have a champion so we can properly crown them \n",
    "        if len(next_round)==1:\n",
    "            with open(bracket_file,'a',newline='') as writefile:\n",
    "                writer = csv.writer(writefile)\n",
    "                writer.writerow(['CHAMPION:',next_round[0]])\n",
    "\n",
    "        # Otherwise mark the next round for ease of reading and append the next matchups\t\n",
    "        else:\n",
    "            with open(bracket_file,'a',newline='') as writefile:\n",
    "                writer = csv.writer(writefile)\n",
    "                writer.writerow(['NEXT ROUND'])\n",
    "\n",
    "                for i in range(len(next_round)-1):\n",
    "                    if i%2==0:\n",
    "                        writer.writerow([next_round[i],next_round[i+1]])\n",
    "                    else:\n",
    "                        pass"
   ]
  },
  {
   "cell_type": "code",
   "execution_count": 40,
   "metadata": {},
   "outputs": [
    {
     "ename": "ValueError",
     "evalue": "Found array with 0 sample(s) (shape=(0, 4)) while a minimum of 1 is required.",
     "output_type": "error",
     "traceback": [
      "\u001b[1;31m---------------------------------------------------------------------------\u001b[0m",
      "\u001b[1;31mValueError\u001b[0m                                Traceback (most recent call last)",
      "\u001b[1;32m<ipython-input-40-e7be86595680>\u001b[0m in \u001b[0;36m<module>\u001b[1;34m\u001b[0m\n\u001b[1;32m----> 1\u001b[1;33m \u001b[0mpredict_tournament\u001b[0m\u001b[1;33m(\u001b[0m\u001b[0mpath_tournament19\u001b[0m\u001b[1;33m,\u001b[0m\u001b[1;34m'Bracket_Games19.csv'\u001b[0m\u001b[1;33m,\u001b[0m\u001b[0mdf_features19\u001b[0m\u001b[1;33m)\u001b[0m\u001b[1;33m\u001b[0m\u001b[1;33m\u001b[0m\u001b[0m\n\u001b[0m",
      "\u001b[1;32m<ipython-input-37-747a2a30256c>\u001b[0m in \u001b[0;36mpredict_tournament\u001b[1;34m(path_tournament, bracket_file, df_features)\u001b[0m\n\u001b[0;32m     24\u001b[0m \u001b[1;33m\u001b[0m\u001b[0m\n\u001b[0;32m     25\u001b[0m         \u001b[1;31m# predicts who will advance to the next round\u001b[0m\u001b[1;33m\u001b[0m\u001b[1;33m\u001b[0m\u001b[1;33m\u001b[0m\u001b[0m\n\u001b[1;32m---> 26\u001b[1;33m         \u001b[0mholdout_predicitons\u001b[0m \u001b[1;33m=\u001b[0m \u001b[0mmodel\u001b[0m\u001b[1;33m.\u001b[0m\u001b[0mpredict\u001b[0m\u001b[1;33m(\u001b[0m\u001b[0mdf_tournament_match_stats\u001b[0m\u001b[1;33m[\u001b[0m\u001b[0mfeatures\u001b[0m\u001b[1;33m]\u001b[0m\u001b[1;33m)\u001b[0m\u001b[1;33m\u001b[0m\u001b[1;33m\u001b[0m\u001b[0m\n\u001b[0m\u001b[0;32m     27\u001b[0m \u001b[1;33m\u001b[0m\u001b[0m\n\u001b[0;32m     28\u001b[0m \u001b[1;33m\u001b[0m\u001b[0m\n",
      "\u001b[1;32m~\\Anaconda3\\lib\\site-packages\\sklearn\\linear_model\\base.py\u001b[0m in \u001b[0;36mpredict\u001b[1;34m(self, X)\u001b[0m\n\u001b[0;32m    322\u001b[0m             \u001b[0mPredicted\u001b[0m \u001b[1;32mclass\u001b[0m \u001b[0mlabel\u001b[0m \u001b[0mper\u001b[0m \u001b[0msample\u001b[0m\u001b[1;33m.\u001b[0m\u001b[1;33m\u001b[0m\u001b[1;33m\u001b[0m\u001b[0m\n\u001b[0;32m    323\u001b[0m         \"\"\"\n\u001b[1;32m--> 324\u001b[1;33m         \u001b[0mscores\u001b[0m \u001b[1;33m=\u001b[0m \u001b[0mself\u001b[0m\u001b[1;33m.\u001b[0m\u001b[0mdecision_function\u001b[0m\u001b[1;33m(\u001b[0m\u001b[0mX\u001b[0m\u001b[1;33m)\u001b[0m\u001b[1;33m\u001b[0m\u001b[1;33m\u001b[0m\u001b[0m\n\u001b[0m\u001b[0;32m    325\u001b[0m         \u001b[1;32mif\u001b[0m \u001b[0mlen\u001b[0m\u001b[1;33m(\u001b[0m\u001b[0mscores\u001b[0m\u001b[1;33m.\u001b[0m\u001b[0mshape\u001b[0m\u001b[1;33m)\u001b[0m \u001b[1;33m==\u001b[0m \u001b[1;36m1\u001b[0m\u001b[1;33m:\u001b[0m\u001b[1;33m\u001b[0m\u001b[1;33m\u001b[0m\u001b[0m\n\u001b[0;32m    326\u001b[0m             \u001b[0mindices\u001b[0m \u001b[1;33m=\u001b[0m \u001b[1;33m(\u001b[0m\u001b[0mscores\u001b[0m \u001b[1;33m>\u001b[0m \u001b[1;36m0\u001b[0m\u001b[1;33m)\u001b[0m\u001b[1;33m.\u001b[0m\u001b[0mastype\u001b[0m\u001b[1;33m(\u001b[0m\u001b[0mnp\u001b[0m\u001b[1;33m.\u001b[0m\u001b[0mint\u001b[0m\u001b[1;33m)\u001b[0m\u001b[1;33m\u001b[0m\u001b[1;33m\u001b[0m\u001b[0m\n",
      "\u001b[1;32m~\\Anaconda3\\lib\\site-packages\\sklearn\\linear_model\\base.py\u001b[0m in \u001b[0;36mdecision_function\u001b[1;34m(self, X)\u001b[0m\n\u001b[0;32m    298\u001b[0m                                  \"yet\" % {'name': type(self).__name__})\n\u001b[0;32m    299\u001b[0m \u001b[1;33m\u001b[0m\u001b[0m\n\u001b[1;32m--> 300\u001b[1;33m         \u001b[0mX\u001b[0m \u001b[1;33m=\u001b[0m \u001b[0mcheck_array\u001b[0m\u001b[1;33m(\u001b[0m\u001b[0mX\u001b[0m\u001b[1;33m,\u001b[0m \u001b[0maccept_sparse\u001b[0m\u001b[1;33m=\u001b[0m\u001b[1;34m'csr'\u001b[0m\u001b[1;33m)\u001b[0m\u001b[1;33m\u001b[0m\u001b[1;33m\u001b[0m\u001b[0m\n\u001b[0m\u001b[0;32m    301\u001b[0m \u001b[1;33m\u001b[0m\u001b[0m\n\u001b[0;32m    302\u001b[0m         \u001b[0mn_features\u001b[0m \u001b[1;33m=\u001b[0m \u001b[0mself\u001b[0m\u001b[1;33m.\u001b[0m\u001b[0mcoef_\u001b[0m\u001b[1;33m.\u001b[0m\u001b[0mshape\u001b[0m\u001b[1;33m[\u001b[0m\u001b[1;36m1\u001b[0m\u001b[1;33m]\u001b[0m\u001b[1;33m\u001b[0m\u001b[1;33m\u001b[0m\u001b[0m\n",
      "\u001b[1;32m~\\Anaconda3\\lib\\site-packages\\sklearn\\utils\\validation.py\u001b[0m in \u001b[0;36mcheck_array\u001b[1;34m(array, accept_sparse, dtype, order, copy, force_all_finite, ensure_2d, allow_nd, ensure_min_samples, ensure_min_features, warn_on_dtype, estimator)\u001b[0m\n\u001b[0;32m    460\u001b[0m                              \u001b[1;34m\" minimum of %d is required%s.\"\u001b[0m\u001b[1;33m\u001b[0m\u001b[1;33m\u001b[0m\u001b[0m\n\u001b[0;32m    461\u001b[0m                              % (n_samples, shape_repr, ensure_min_samples,\n\u001b[1;32m--> 462\u001b[1;33m                                 context))\n\u001b[0m\u001b[0;32m    463\u001b[0m \u001b[1;33m\u001b[0m\u001b[0m\n\u001b[0;32m    464\u001b[0m     \u001b[1;32mif\u001b[0m \u001b[0mensure_min_features\u001b[0m \u001b[1;33m>\u001b[0m \u001b[1;36m0\u001b[0m \u001b[1;32mand\u001b[0m \u001b[0marray\u001b[0m\u001b[1;33m.\u001b[0m\u001b[0mndim\u001b[0m \u001b[1;33m==\u001b[0m \u001b[1;36m2\u001b[0m\u001b[1;33m:\u001b[0m\u001b[1;33m\u001b[0m\u001b[1;33m\u001b[0m\u001b[0m\n",
      "\u001b[1;31mValueError\u001b[0m: Found array with 0 sample(s) (shape=(0, 4)) while a minimum of 1 is required."
     ]
    }
   ],
   "source": [
    "predict_tournament(path_tournament19,'Bracket_Games19.csv',df_features19)"
   ]
  },
  {
   "cell_type": "code",
   "execution_count": null,
   "metadata": {
    "collapsed": true
   },
   "outputs": [],
   "source": []
  }
 ],
 "metadata": {
  "kernelspec": {
   "display_name": "Python 3",
   "language": "python",
   "name": "python3"
  },
  "language_info": {
   "codemirror_mode": {
    "name": "ipython",
    "version": 3
   },
   "file_extension": ".py",
   "mimetype": "text/x-python",
   "name": "python",
   "nbconvert_exporter": "python",
   "pygments_lexer": "ipython3",
   "version": "3.6.8"
  }
 },
 "nbformat": 4,
 "nbformat_minor": 2
}
