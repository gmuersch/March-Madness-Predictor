{
 "cells": [
  {
   "cell_type": "code",
   "execution_count": 1,
   "metadata": {
    "collapsed": true
   },
   "outputs": [],
   "source": [
    "# Now that we scraped our data and trained our model, lets use it to fill out a bracket!"
   ]
  },
  {
   "cell_type": "code",
   "execution_count": 2,
   "metadata": {
    "collapsed": true
   },
   "outputs": [],
   "source": [
    "import pickle\n",
    "import pandas as pd \n",
    "import csv\n",
    "import numpy as np \n",
    "import pickle\n",
    "\n",
    "import sklearn"
   ]
  },
  {
   "cell_type": "code",
   "execution_count": 3,
   "metadata": {
    "collapsed": true
   },
   "outputs": [],
   "source": [
    "path_stats_basic19 = r\"C:\\Python\\March Madness\\NCAA_Team_Data_basic19.csv\"\n",
    "path_stats_basic18 = r\"C:\\Python\\March Madness\\NCAA_Team_Data_basic18.csv\"\n",
    "\n",
    "# df of all team stats for each year\n",
    "df_stats19 = pd.read_csv(path_stats_basic19)\n",
    "df_stats18 = pd.read_csv(path_stats_basic18)\n",
    "\n",
    "# df picking out our stats we will use as features in our model, this is useful for our our match_stats functions below\n",
    "df_features19 = df_stats19[['SCHOOL','SRS','FG%','3P%', 'FT%']]\n",
    "df_features18 = df_stats18[['SCHOOL','SRS','FG%','3P%', 'FT%']]"
   ]
  },
  {
   "cell_type": "code",
   "execution_count": 4,
   "metadata": {
    "collapsed": true
   },
   "outputs": [],
   "source": [
    "# This csv file holds the first round of our tournament\n",
    "path_tournament19 = r\"C:\\Python\\March Madness\\Bracket_Games19.csv\""
   ]
  },
  {
   "cell_type": "code",
   "execution_count": 5,
   "metadata": {
    "collapsed": true
   },
   "outputs": [],
   "source": [
    "# load our regression model using pickle\n",
    "filename = 'finalized_model.sav'\n",
    "model = pickle.load(open(filename,'rb'))\n",
    "\n",
    "features = ['SRS','FG%','3P%','FT%']"
   ]
  },
  {
   "cell_type": "code",
   "execution_count": 6,
   "metadata": {
    "collapsed": true
   },
   "outputs": [],
   "source": [
    "# Calculates the match stats of each tournament game, similar to match_stats_reg_season()\n",
    "def match_stats_tournament(lst,df_games,df_features):\n",
    "    for index,row in df_games.iterrows():\n",
    "        lst.append(df_features.loc[df_features['SCHOOL']==row[0]].values[0][1:].astype(float) - df_features.loc[df_features['SCHOOL']==row[1]].values[0][1:].astype(float))\n",
    "        \n",
    "    return lst"
   ]
  },
  {
   "cell_type": "code",
   "execution_count": 7,
   "metadata": {
    "collapsed": true
   },
   "outputs": [],
   "source": [
    "# Given the first round matchups, this function predicts the entire tournament saving it to a csv file\n",
    "\n",
    "def predict_tournament(path_tournament,bracket_file,df_features): \n",
    "    \n",
    "    # rounds list holds the indices for the first game of each tournament round in our csv file\n",
    "    rounds = [0,33,50,59,64,67]\n",
    "\n",
    "\n",
    "    # iterate through each round of the tournament so we can predict the winners of one round and update the bracket for the matches of the next round\n",
    "    for r in rounds:\n",
    "\n",
    "        # Two holder lists to keep track of our match stats and which teams advance respectively\n",
    "        tournament_match_stats = [] \n",
    "        next_round = []\n",
    "\n",
    "        # Fills the df_tournament data frame with the matches to be predicted for the given rounds\n",
    "        df_tournament = pd.read_csv(path_tournament)\n",
    "\n",
    "        # call our function to calculate the current rounds match stats\n",
    "        match_stats_tournament(tournament_match_stats,df_tournament[r:],df_features)\n",
    "\n",
    "        # Save the current rounds match stats to a df\n",
    "        df_tournament_match_stats = pd.DataFrame(columns=features, data=tournament_match_stats)\n",
    "\n",
    "        # predicts who will advance to the next round\n",
    "        holdout_predicitons = model.predict(df_tournament_match_stats[features])\n",
    "\n",
    "\n",
    "        # iterates through each matchup and picks out the predicted winner saving them to the next_round holder list\n",
    "        count=0 \n",
    "        for index,row in df_tournament[r:].iterrows():\n",
    "\n",
    "            if holdout_predicitons[count] == 0:\n",
    "                next_round.append(row[0])\n",
    "                count+=1\n",
    "\n",
    "            else:\n",
    "                next_round.append(row[1])\n",
    "                count+=1\n",
    "\n",
    "\n",
    "        # Appends the winners of each round to our bracket csv file\n",
    "        # First we will check if have a champion so we can properly crown them \n",
    "        if len(next_round)==1:\n",
    "            with open(bracket_file,'a',newline='') as writefile:\n",
    "                writer = csv.writer(writefile)\n",
    "                writer.writerow(['CHAMPION:',next_round[0]])\n",
    "\n",
    "        # Otherwise mark the next round for ease of reading and append the next matchups\n",
    "        else:\n",
    "            with open(bracket_file,'a',newline='') as writefile:\n",
    "                writer = csv.writer(writefile)\n",
    "                writer.writerow(['NEXT ROUND'])\n",
    "\n",
    "                for i in range(len(next_round)-1):\n",
    "                    if i%2==0:\n",
    "                        writer.writerow([next_round[i],next_round[i+1]])\n",
    "                    else:\n",
    "                        pass"
   ]
  },
  {
   "cell_type": "code",
   "execution_count": 8,
   "metadata": {},
   "outputs": [],
   "source": [
    "predict_tournament(path_tournament19,'Bracket_Games19.csv',df_features19)"
   ]
  },
  {
   "cell_type": "code",
   "execution_count": 9,
   "metadata": {
    "collapsed": true
   },
   "outputs": [],
   "source": [
    "# This function creates a new csv file of each matchup from the predicted bracket and the probability that Team A wins\n",
    "def prob_predictor(df,path,csv_name):\n",
    "    \n",
    "    stat=[]\n",
    "    probs=[]\n",
    "    games=[]\n",
    "    combine=[]\n",
    "    \n",
    "    df_tournament = pd.read_csv(path).dropna()\n",
    "    \n",
    "    match_stats_tournament(stat,df_tournament[0:-1],df)\n",
    "    \n",
    "    for index,row in df_tournament[0:63].iterrows():\n",
    "        games.append([row[0],row[1]])\n",
    "    \n",
    "    for i in stat:\n",
    "        probs.append(model.predict_proba(i.reshape(1,-1))[0])\n",
    "    \n",
    "    for i in range(len(games)):\n",
    "        combine.append([games[i][0],games[i][1],probs[i][0]])\n",
    "    \n",
    "    with open(csv_name,'w',newline='') as writefile:\n",
    "        writer = csv.writer(writefile)\n",
    "        writer.writerow(['Team 1','Team 2','Probability'])\n",
    "        \n",
    "        for i in combine:\n",
    "            writer.writerow(i)"
   ]
  },
  {
   "cell_type": "code",
   "execution_count": 11,
   "metadata": {
    "collapsed": true
   },
   "outputs": [],
   "source": [
    "prob_predictor(df_features19,path_tournament19,'Prediction_Probabilities.csv')"
   ]
  }
 ],
 "metadata": {
  "kernelspec": {
   "display_name": "Python 3",
   "language": "python",
   "name": "python3"
  },
  "language_info": {
   "codemirror_mode": {
    "name": "ipython",
    "version": 3
   },
   "file_extension": ".py",
   "mimetype": "text/x-python",
   "name": "python",
   "nbconvert_exporter": "python",
   "pygments_lexer": "ipython3",
   "version": "3.6.8"
  }
 },
 "nbformat": 4,
 "nbformat_minor": 2
}
