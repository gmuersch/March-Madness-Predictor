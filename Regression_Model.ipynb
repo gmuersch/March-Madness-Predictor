{
 "cells": [
  {
   "cell_type": "code",
   "execution_count": 1,
   "metadata": {
    "collapsed": true
   },
   "outputs": [],
   "source": [
    "# Now I will use the scraped data to train a logistic regression model"
   ]
  },
  {
   "cell_type": "code",
   "execution_count": 2,
   "metadata": {
    "collapsed": true
   },
   "outputs": [],
   "source": [
    "import pandas as pd \n",
    "import numpy as np\n",
    "import pickle\n",
    "\n",
    "\n",
    "from sklearn.metrics import accuracy_score\n",
    "from sklearn.linear_model import LogisticRegression\n",
    "from sklearn.model_selection import train_test_split"
   ]
  },
  {
   "cell_type": "code",
   "execution_count": 3,
   "metadata": {},
   "outputs": [],
   "source": [
    "# Import the pandas daatframe created in the exploratory analysis file\n",
    "path_df = r\"C:\\Python\\March Madness\\Match_Stats.csv\"\n",
    "df_match_stats = pd.read_csv(path_df)"
   ]
  },
  {
   "cell_type": "code",
   "execution_count": 4,
   "metadata": {
    "collapsed": true
   },
   "outputs": [],
   "source": [
    "path_games19 = r\"C:\\Python\\March Madness\\NCAA_Reg_Season19.csv\"\n",
    "path_games18 = r\"C:\\Python\\March Madness\\NCAA_Reg_Season18.csv\"\n",
    "\n",
    "# df of all games played for each year\n",
    "df_games19 = pd.read_csv(path_games19)\n",
    "df_games18 = pd.read_csv(path_games18)"
   ]
  },
  {
   "cell_type": "code",
   "execution_count": 5,
   "metadata": {},
   "outputs": [
    {
     "data": {
      "text/plain": [
       "LogisticRegression(C=1.0, class_weight=None, dual=False, fit_intercept=True,\n",
       "          intercept_scaling=1, max_iter=100, multi_class='ovr', n_jobs=1,\n",
       "          penalty='l2', random_state=None, solver='liblinear', tol=0.0001,\n",
       "          verbose=0, warm_start=False)"
      ]
     },
     "execution_count": 5,
     "metadata": {},
     "output_type": "execute_result"
    }
   ],
   "source": [
    "# Define a feature set and train the model\n",
    "features = ['W/L%','SRS','SOS','ORTg']\n",
    "\n",
    "all_x = df_match_stats[features]\n",
    "all_y = df_match_stats['RESULT'] \n",
    "\n",
    "model = LogisticRegression()\n",
    "model.fit(all_x, all_y)"
   ]
  },
  {
   "cell_type": "code",
   "execution_count": 6,
   "metadata": {
    "collapsed": true
   },
   "outputs": [],
   "source": [
    "# Serializing the model to a file called finalized_model.sav\n",
    "\n",
    "filename = 'finalized_model.sav'\n",
    "pickle.dump(model, open(filename, 'wb'))"
   ]
  },
  {
   "cell_type": "code",
   "execution_count": 7,
   "metadata": {},
   "outputs": [
    {
     "name": "stdout",
     "output_type": "stream",
     "text": [
      "Accurcay Score:  77.2479564033 %\n"
     ]
    }
   ],
   "source": [
    "# Now I will check the accuracy score by splitting the training data in two\n",
    "# 80% of the data will train a new model so we can predict the remaing 20% to check accuracy\n",
    "\n",
    "\n",
    "xTrain, xTest, yTrain, yTest = train_test_split(all_x,all_y,test_size = 0.2, random_state=0)\n",
    "\n",
    "model = LogisticRegression()\n",
    "model.fit(xTrain, yTrain)\n",
    "\n",
    "holdout_predicitons = model.predict(xTest)\n",
    "\n",
    "score = accuracy_score(yTest, holdout_predicitons)\n",
    "\n",
    "print(\"Accurcay Score: \",score*100,\"%\")"
   ]
  },
  {
   "cell_type": "code",
   "execution_count": 8,
   "metadata": {},
   "outputs": [
    {
     "name": "stdout",
     "output_type": "stream",
     "text": [
      "[-4.65716085 -0.05397816 -0.13552155  0.00900337]\n"
     ]
    }
   ],
   "source": [
    "# Coefficients of each feature\n",
    "coef = model.coef_[0]\n",
    "print(coef)\n",
    "\n",
    "# Taking the abs value of the coeff can give some indication of feature importance"
   ]
  }
 ],
 "metadata": {
  "kernelspec": {
   "display_name": "Python 3",
   "language": "python",
   "name": "python3"
  },
  "language_info": {
   "codemirror_mode": {
    "name": "ipython",
    "version": 3
   },
   "file_extension": ".py",
   "mimetype": "text/x-python",
   "name": "python",
   "nbconvert_exporter": "python",
   "pygments_lexer": "ipython3",
   "version": "3.6.8"
  }
 },
 "nbformat": 4,
 "nbformat_minor": 2
}
